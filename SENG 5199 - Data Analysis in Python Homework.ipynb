{
 "cells": [
  {
   "cell_type": "markdown",
   "metadata": {},
   "source": [
    "Introduction:\n",
    "=============\n",
    "\n",
    "Welcome to the big scary homework. :) Hopefully between the similar examples in the in-class exercise and the Slack help channel we'll all get through this pretty easily. Please, please, please try some stuff out early on. The exercises build on each other so getting help early is essential.\n",
    "\n",
    "Tips:\n",
    "- Break your code up into a bunch of smallish cells (maybe one or more per question)\n",
    "- Use markdown. For the questions that require textual answers, just create a new cell, select it, and change the type in the drop down from Code to Markdown.\n",
    "- Partial\n"
   ]
  },
  {
   "cell_type": "code",
   "execution_count": 69,
   "metadata": {
    "collapsed": false
   },
   "outputs": [],
   "source": [
    "# Magic for displaying graphs and charts\n",
    "%matplotlib inline\n",
    "import pandas as pd\n",
    "import numpy as np"
   ]
  },
  {
   "cell_type": "markdown",
   "metadata": {
    "collapsed": true
   },
   "source": [
    "Excercise 1: Loading and cleaning data (5 points)\n",
    "--------------------------------------\n",
    "\n",
    "In this exercise, you'll load the data and drop a few weird columns\n",
    "\n",
    "1. load the food facts dataset `FoodFacts.csv` into a pandas dataframe\n",
    "2. What are columns 0, 3, 5, 27 and 36?\n",
    "3. Remove columns 3, 5"
   ]
  },
  {
   "cell_type": "markdown",
   "metadata": {},
   "source": [
    "### Solution 1.1\n",
    "Load the food facts dataset FoodFacts.csv into a pandas dataframe."
   ]
  },
  {
   "cell_type": "code",
   "execution_count": 70,
   "metadata": {
    "collapsed": true
   },
   "outputs": [],
   "source": [
    "foodFacts = pd.read_csv(\"FoodFacts.csv\")"
   ]
  },
  {
   "cell_type": "markdown",
   "metadata": {},
   "source": [
    "### Solution 1.2\n",
    "code, created_t, last_modified_t, cities, allergens_en"
   ]
  },
  {
   "cell_type": "code",
   "execution_count": 71,
   "metadata": {
    "collapsed": false
   },
   "outputs": [
    {
     "data": {
      "text/plain": [
       "code               object\n",
       "created_t          object\n",
       "last_modified_t    object\n",
       "cities             object\n",
       "allergens_en       object\n",
       "dtype: object"
      ]
     },
     "execution_count": 71,
     "metadata": {},
     "output_type": "execute_result"
    }
   ],
   "source": [
    "foodFacts.dtypes[[0, 3, 5, 27, 36]]"
   ]
  },
  {
   "cell_type": "markdown",
   "metadata": {},
   "source": [
    "### Solution 1.3"
   ]
  },
  {
   "cell_type": "markdown",
   "metadata": {},
   "source": [
    "#### Show that the columns exist by name"
   ]
  },
  {
   "cell_type": "code",
   "execution_count": 78,
   "metadata": {
    "collapsed": false
   },
   "outputs": [
    {
     "data": {
      "text/plain": [
       "code               object\n",
       "created_t          object\n",
       "last_modified_t    object\n",
       "cities             object\n",
       "allergens_en       object\n",
       "dtype: object"
      ]
     },
     "execution_count": 78,
     "metadata": {},
     "output_type": "execute_result"
    }
   ],
   "source": [
    "foodFacts.dtypes[np.arange(10)]\n",
    "foodFacts.dtypes[[\"code\", \"created_t\", \"last_modified_t\", \"cities\", \"allergens_en\"]]"
   ]
  },
  {
   "cell_type": "markdown",
   "metadata": {},
   "source": [
    "#### Remove the columns and show they no longer exist"
   ]
  },
  {
   "cell_type": "code",
   "execution_count": 80,
   "metadata": {
    "collapsed": false
   },
   "outputs": [
    {
     "data": {
      "text/plain": [
       "code               NaN\n",
       "created_t          NaN\n",
       "last_modified_t    NaN\n",
       "cities             NaN\n",
       "allergens_en       NaN\n",
       "dtype: object"
      ]
     },
     "execution_count": 80,
     "metadata": {},
     "output_type": "execute_result"
    }
   ],
   "source": [
    "foodFacts = foodFacts.drop(foodFacts.columns[[0,3,5,27,36]], axis = 1)\n",
    "foodFacts.dtypes[[\"code\", \"created_t\", \"last_modified_t\", \"cities\", \"allergens_en\"]]"
   ]
  },
  {
   "cell_type": "markdown",
   "metadata": {},
   "source": [
    "Exercise 2: Exploring the Data (20 points)\n",
    "------------------------------\n",
    "\n",
    "Answer the following questions using some pandas built in operations (slicing, sorting, and basic plotting)\n",
    "1. What percentage of items have a nutrition_score for the uk?\n",
    "2. What's the most caffeinated food?\n",
    "3. What items (top 5) have a lot of arachidonic acid (arachidonic_acid_100g)? \n",
    "4. Based on the data, what would you guess arachidonic acid is used for? (check the categories)\n",
    "5. Make a box plot of the nutritional score for the uk (nutrition_score_uk_100g).\n",
    "6. Do you think there are more healthy or unhealthy foods in this data set? Is the data skewed? Explain.\n",
    "\n",
    "Hints:\n",
    "- http://pandas.pydata.org/pandas-docs/stable/visualization.html#box-plots\n",
    "- Don't fuss about making the plot pretty just use the default arguments"
   ]
  },
  {
   "cell_type": "markdown",
   "metadata": {},
   "source": [
    "### Solution 2.1\n",
    "*What percentage of items have a nutrition_score for the uk?*\n",
    "\n",
    "**47.77%**"
   ]
  },
  {
   "cell_type": "code",
   "execution_count": 110,
   "metadata": {
    "collapsed": false
   },
   "outputs": [
    {
     "data": {
      "text/plain": [
       "47.77"
      ]
     },
     "execution_count": 110,
     "metadata": {},
     "output_type": "execute_result"
    }
   ],
   "source": [
    "foodFacts = pd.read_csv(\"FoodFacts.csv\")\n",
    "round( 1.0 * foodFacts[foodFacts.nutrition_score_uk_100g.notnull()].size / foodFacts.size * 100.0, 2 )"
   ]
  },
  {
   "cell_type": "markdown",
   "metadata": {},
   "source": [
    "### Solution 2.2\n",
    "*What's the most caffeinated food?*\n",
    "\n",
    "**8861: Red Bull energy drink**"
   ]
  },
  {
   "cell_type": "code",
   "execution_count": 98,
   "metadata": {
    "collapsed": false
   },
   "outputs": [
    {
     "data": {
      "text/plain": [
       "8861    Red Bull energy drink\n",
       "Name: product_name, dtype: object"
      ]
     },
     "execution_count": 98,
     "metadata": {},
     "output_type": "execute_result"
    }
   ],
   "source": [
    "foodFacts.sort_values(by=\"caffeine_100g\", ascending=False)[:1].product_name"
   ]
  },
  {
   "cell_type": "markdown",
   "metadata": {},
   "source": [
    "### Solution 2.3\n",
    "*What items (top 5) have a lot of arachidonic acid (arachidonic_acid_100g)?*\n",
    "\n",
    "row    | product_name       | arachidonic_acid_100g | main_category_en\n",
    "------ | ------------------ | --------------------- | ----------------\n",
    "12756  | Lait Gallia Calisma| 0.090                 | Baby foods\n",
    "32423  | Dès la naissance\t| 0.082\t                | Baby foods\n",
    "55289  | Dès la naissance\t| 0.064\t                | Baby foods\n",
    "54897  | Nidal Natéa 2\t    | 0.044\t                | Baby foods\n",
    "12835  | Gallia croissance\t| 0.007\t                | Baby foods\n"
   ]
  },
  {
   "cell_type": "code",
   "execution_count": 109,
   "metadata": {
    "collapsed": false
   },
   "outputs": [
    {
     "data": {
      "text/html": [
       "<div>\n",
       "<table border=\"1\" class=\"dataframe\">\n",
       "  <thead>\n",
       "    <tr style=\"text-align: right;\">\n",
       "      <th></th>\n",
       "      <th>product_name</th>\n",
       "      <th>arachidonic_acid_100g</th>\n",
       "      <th>main_category_en</th>\n",
       "    </tr>\n",
       "  </thead>\n",
       "  <tbody>\n",
       "    <tr>\n",
       "      <th>12756</th>\n",
       "      <td>Lait Gallia Calisma</td>\n",
       "      <td>0.090</td>\n",
       "      <td>Baby foods</td>\n",
       "    </tr>\n",
       "    <tr>\n",
       "      <th>32423</th>\n",
       "      <td>Dès la naissance</td>\n",
       "      <td>0.082</td>\n",
       "      <td>Baby foods</td>\n",
       "    </tr>\n",
       "    <tr>\n",
       "      <th>55289</th>\n",
       "      <td>Dès la naissance</td>\n",
       "      <td>0.064</td>\n",
       "      <td>Baby foods</td>\n",
       "    </tr>\n",
       "    <tr>\n",
       "      <th>54897</th>\n",
       "      <td>Nidal Natéa 2</td>\n",
       "      <td>0.044</td>\n",
       "      <td>Baby foods</td>\n",
       "    </tr>\n",
       "    <tr>\n",
       "      <th>12835</th>\n",
       "      <td>Gallia croissance</td>\n",
       "      <td>0.007</td>\n",
       "      <td>Baby foods</td>\n",
       "    </tr>\n",
       "  </tbody>\n",
       "</table>\n",
       "</div>"
      ],
      "text/plain": [
       "              product_name  arachidonic_acid_100g main_category_en\n",
       "12756  Lait Gallia Calisma                  0.090       Baby foods\n",
       "32423     Dès la naissance                  0.082       Baby foods\n",
       "55289     Dès la naissance                  0.064       Baby foods\n",
       "54897        Nidal Natéa 2                  0.044       Baby foods\n",
       "12835    Gallia croissance                  0.007       Baby foods"
      ]
     },
     "execution_count": 109,
     "metadata": {},
     "output_type": "execute_result"
    }
   ],
   "source": [
    "foodFacts.sort_values(by=\"arachidonic_acid_100g\", ascending=False)[:5][[\"product_name\", \"arachidonic_acid_100g\", \"main_category_en\"]]"
   ]
  },
  {
   "cell_type": "markdown",
   "metadata": {},
   "source": [
    "### Solution 2.4\n",
    "*Based on the data, what would you guess arachidonic acid is used for? (check the categories)*\n",
    "\n",
    "**Based on the main_category_en field, these are all in baby foods.  This would indicate to me that it is a supplement that assists in infant development or digestion.**"
   ]
  },
  {
   "cell_type": "markdown",
   "metadata": {},
   "source": [
    "### Solution 2.5\n",
    "*Make a box plot of the nutritional score for the uk (nutrition_score_uk_100g).*"
   ]
  },
  {
   "cell_type": "code",
   "execution_count": 111,
   "metadata": {
    "collapsed": false
   },
   "outputs": [
    {
     "data": {
      "text/plain": [
       "<matplotlib.axes._subplots.AxesSubplot at 0x15dcce090>"
      ]
     },
     "execution_count": 111,
     "metadata": {},
     "output_type": "execute_result"
    },
    {
     "data": {
      "image/png": "[encoded data removed]",
      "text/plain": [
       "<matplotlib.figure.Figure at 0x15d9fa410>"
      ]
     },
     "metadata": {},
     "output_type": "display_data"
    }
   ],
   "source": [
    "foodFacts.nutrition_score_uk_100g.plot.box()"
   ]
  },
  {
   "cell_type": "markdown",
   "metadata": {},
   "source": [
    "### Solution 2.6\n",
    "*Do you think there are more healthy or unhealthy foods in this data set? Is the data skewed? Explain.*\n",
    "\n",
    "**First, a higher score means the food is more unhealthy. \n",
    "In this data set, the red line (2nd quartile/median) is on the healthy side, meaning there are more foods that are healthy.  Of note, the box plot is quite tall which indicates there is a wide range of values.**"
   ]
  },
  {
   "cell_type": "markdown",
   "metadata": {},
   "source": [
    "Exercise 3: Who's Creating the Data? (30 points)\n",
    "------------------------------------\n",
    "\n",
    "Explore the \"creator\" column\n",
    "\n",
    "Answer the following questions using basic pandas operations (sorting, groupby, aggregation):\n",
    "1. How many unique creators are there in the data?\n",
    "2. What percentage of items are created by open food facts contributers?\n",
    "3. Find the top 10 creators\n",
    "4. Create a bar plot of the number of contributions by each creator for the top 10 creators\n",
    "\n",
    "Here's some relevant documentation:\n",
    "http://pandas.pydata.org/pandas-docs/stable/groupby.html\n",
    "http://pandas.pydata.org/pandas-docs/stable/visualization.html#bar-plots\n",
    "\n",
    "Hints:\n",
    "- Use groupby and size to get contributions per creator\n",
    "- Just use the df.plot.bar() function without arguments don't worry about scaling or style.\n"
   ]
  },
  {
   "cell_type": "markdown",
   "metadata": {},
   "source": [
    "### Solution 3.1\n",
    "*How many unique creators are there in the data?*\n",
    "\n",
    "**There are 1906 unique creators in the data.**"
   ]
  },
  {
   "cell_type": "code",
   "execution_count": 113,
   "metadata": {
    "collapsed": false
   },
   "outputs": [
    {
     "data": {
      "text/plain": [
       "1906"
      ]
     },
     "execution_count": 113,
     "metadata": {},
     "output_type": "execute_result"
    }
   ],
   "source": [
    "pd.unique(foodFacts.creator).size"
   ]
  },
  {
   "cell_type": "markdown",
   "metadata": {},
   "source": [
    "### Solution 3.2\n",
    "*What percentage of items are created by open food facts contributers?*\n",
    "\n",
    "**24.14% are Open Food Facts contributers**"
   ]
  },
  {
   "cell_type": "code",
   "execution_count": 117,
   "metadata": {
    "collapsed": false
   },
   "outputs": [
    {
     "data": {
      "text/plain": [
       "24.14"
      ]
     },
     "execution_count": 117,
     "metadata": {},
     "output_type": "execute_result"
    }
   ],
   "source": [
    "round( 1.0 * foodFacts[foodFacts.creator == \"openfoodfacts-contributors\"].size / foodFacts.size * 100, 2)"
   ]
  },
  {
   "cell_type": "markdown",
   "metadata": {},
   "source": [
    "### Solution 3.3\n",
    "*Find the top 10 creators*"
   ]
  },
  {
   "cell_type": "code",
   "execution_count": 118,
   "metadata": {
    "collapsed": false
   },
   "outputs": [
    {
     "data": {
      "text/plain": [
       "creator\n",
       "openfoodfacts-contributors    15814\n",
       "tacite                         4452\n",
       "date-limite-app                3980\n",
       "sebleouf                       3260\n",
       "tacinte                        3189\n",
       "javichu                        2544\n",
       "stephane                       2367\n",
       "jeanbono                       1721\n",
       "miles67off                     1406\n",
       "teolemon                       1277\n",
       "dtype: int64"
      ]
     },
     "execution_count": 118,
     "metadata": {},
     "output_type": "execute_result"
    }
   ],
   "source": [
    "foodFacts.groupby(['creator']).size().sort_values(ascending=False)[:10]"
   ]
  },
  {
   "cell_type": "markdown",
   "metadata": {},
   "source": [
    "### Solution 3.4\n",
    "*Create a bar plot of the number of contributions by each creator for the top 10 creators*"
   ]
  },
  {
   "cell_type": "code",
   "execution_count": 119,
   "metadata": {
    "collapsed": false
   },
   "outputs": [
    {
     "data": {
      "text/plain": [
       "<matplotlib.axes._subplots.AxesSubplot at 0x154b02050>"
      ]
     },
     "execution_count": 119,
     "metadata": {},
     "output_type": "execute_result"
    },
    {
     "data": {
      "image/png": "[encoded data removed]",
      "text/plain": [
       "<matplotlib.figure.Figure at 0x10f556890>"
      ]
     },
     "metadata": {},
     "output_type": "display_data"
    }
   ],
   "source": [
    "foodFacts.groupby(['creator']).size().sort_values(ascending=False)[:10].plot.bar()"
   ]
  },
  {
   "cell_type": "markdown",
   "metadata": {},
   "source": [
    "Exercise 4: Modeling (30 points)\n",
    "--------------------\n",
    "\n",
    "Here we'll poke at the question \"Is there good fat?\"\n",
    "\n",
    "1. Create a dataframe with only two columns \"fat_100g\" and \"nutrition_score_uk_100g\" (drop nulls)\n",
    "2. Create a scatter plot with x being \"fat_100g\" and y being \"nutrition_score_uk_100g\"\n",
    "3. Split the data into two random sets test and train (70% train, 30% test)\n",
    "4. Fit a linear regression on the train dataset using x as \"fat_100g\" and y as \"nutrition_score_uk_100g\"\n",
    "5. Predict nutrition score using the test set\n",
    "6. Plot the scatter plot and line together\n",
    "7. Do the results suprise you? What types of items a lot of fat? Do they have high nutrition scores?\n",
    "\n",
    "Hint: Use code from in class exercise, just be careful not to accidentally swap x and y"
   ]
  },
  {
   "cell_type": "markdown",
   "metadata": {},
   "source": [
    "### Solution 4.1\n",
    "*Create a dataframe with only two columns \"fat_100g\" and \"nutrition_score_uk_100g\" (drop nulls)*"
   ]
  },
  {
   "cell_type": "code",
   "execution_count": 123,
   "metadata": {
    "collapsed": false
   },
   "outputs": [
    {
     "data": {
      "text/html": [
       "<div>\n",
       "<table border=\"1\" class=\"dataframe\">\n",
       "  <thead>\n",
       "    <tr style=\"text-align: right;\">\n",
       "      <th></th>\n",
       "      <th>fat_100g</th>\n",
       "      <th>nutrition_score_uk_100g</th>\n",
       "    </tr>\n",
       "  </thead>\n",
       "  <tbody>\n",
       "    <tr>\n",
       "      <th>10</th>\n",
       "      <td>7.0</td>\n",
       "      <td>10.0</td>\n",
       "    </tr>\n",
       "    <tr>\n",
       "      <th>11</th>\n",
       "      <td>7.0</td>\n",
       "      <td>10.0</td>\n",
       "    </tr>\n",
       "    <tr>\n",
       "      <th>13</th>\n",
       "      <td>0.0</td>\n",
       "      <td>2.0</td>\n",
       "    </tr>\n",
       "    <tr>\n",
       "      <th>16</th>\n",
       "      <td>0.0</td>\n",
       "      <td>2.0</td>\n",
       "    </tr>\n",
       "    <tr>\n",
       "      <th>22</th>\n",
       "      <td>0.0</td>\n",
       "      <td>14.0</td>\n",
       "    </tr>\n",
       "    <tr>\n",
       "      <th>23</th>\n",
       "      <td>0.0</td>\n",
       "      <td>6.0</td>\n",
       "    </tr>\n",
       "    <tr>\n",
       "      <th>29</th>\n",
       "      <td>18.0</td>\n",
       "      <td>13.0</td>\n",
       "    </tr>\n",
       "    <tr>\n",
       "      <th>46</th>\n",
       "      <td>0.5</td>\n",
       "      <td>14.0</td>\n",
       "    </tr>\n",
       "    <tr>\n",
       "      <th>48</th>\n",
       "      <td>29.1</td>\n",
       "      <td>26.0</td>\n",
       "    </tr>\n",
       "    <tr>\n",
       "      <th>52</th>\n",
       "      <td>20.8</td>\n",
       "      <td>20.0</td>\n",
       "    </tr>\n",
       "  </tbody>\n",
       "</table>\n",
       "</div>"
      ],
      "text/plain": [
       "    fat_100g  nutrition_score_uk_100g\n",
       "10       7.0                     10.0\n",
       "11       7.0                     10.0\n",
       "13       0.0                      2.0\n",
       "16       0.0                      2.0\n",
       "22       0.0                     14.0\n",
       "23       0.0                      6.0\n",
       "29      18.0                     13.0\n",
       "46       0.5                     14.0\n",
       "48      29.1                     26.0\n",
       "52      20.8                     20.0"
      ]
     },
     "execution_count": 123,
     "metadata": {},
     "output_type": "execute_result"
    }
   ],
   "source": [
    "fatAndNutrition = foodFacts[['fat_100g', 'nutrition_score_uk_100g']].dropna(thresh=2)\n",
    "fatAndNutrition.head(10)"
   ]
  },
  {
   "cell_type": "markdown",
   "metadata": {},
   "source": [
    "### Solution 4.2\n",
    "*Create a scatter plot with x being \"fat_100g\" and y being \"nutrition_score_uk_100g\"*"
   ]
  },
  {
   "cell_type": "code",
   "execution_count": 124,
   "metadata": {
    "collapsed": false
   },
   "outputs": [
    {
     "data": {
      "text/plain": [
       "<matplotlib.axes._subplots.AxesSubplot at 0x1524c44d0>"
      ]
     },
     "execution_count": 124,
     "metadata": {},
     "output_type": "execute_result"
    },
    {
     "data": {
      "image/png": "[encoded data removed]",
      "text/plain": [
       "<matplotlib.figure.Figure at 0x152455d10>"
      ]
     },
     "metadata": {},
     "output_type": "display_data"
    }
   ],
   "source": [
    "import matplotlib.pyplot as plt\n",
    "fatAndNutrition.plot.scatter(x=\"fat_100g\", y=\"nutrition_score_uk_100g\")"
   ]
  },
  {
   "cell_type": "markdown",
   "metadata": {},
   "source": [
    "### Solution 4.3\n",
    "*Split the data into two random sets test and train (70% train, 30% test)*"
   ]
  },
  {
   "cell_type": "code",
   "execution_count": 125,
   "metadata": {
    "collapsed": true
   },
   "outputs": [],
   "source": [
    "mask = np.random.rand(len(fatAndNutrition)) < 0.7\n",
    "train = fatAndNutrition[mask]\n",
    "test = fatAndNutrition[~mask]"
   ]
  },
  {
   "cell_type": "markdown",
   "metadata": {},
   "source": [
    "### Solution 4.4\n",
    "*Fit a linear regression on the train dataset using x as \"fat_100g\" and y as \"nutrition_score_uk_100g\"*"
   ]
  },
  {
   "cell_type": "code",
   "execution_count": 126,
   "metadata": {
    "collapsed": false
   },
   "outputs": [],
   "source": [
    "from sklearn.linear_model import LinearRegression\n",
    "\n",
    "x_train = train[['fat_100g']]\n",
    "y_train = train['nutrition_score_uk_100g']\n",
    "model = LinearRegression().fit(x_train,y_train)"
   ]
  },
  {
   "cell_type": "markdown",
   "metadata": {},
   "source": [
    "### Solution 4.5\n",
    "*Predict nutrition score using the test set*"
   ]
  },
  {
   "cell_type": "code",
   "execution_count": 132,
   "metadata": {
    "collapsed": false
   },
   "outputs": [],
   "source": [
    "predicted = model.predict(test[[\"fat_100g\"]])"
   ]
  },
  {
   "cell_type": "markdown",
   "metadata": {},
   "source": [
    "### Solution 4.6\n",
    "*Plot the scatter plot and line together*"
   ]
  },
  {
   "cell_type": "code",
   "execution_count": 133,
   "metadata": {
    "collapsed": false
   },
   "outputs": [
    {
     "data": {
      "text/plain": [
       "[<matplotlib.lines.Line2D at 0x1524c4f50>]"
      ]
     },
     "execution_count": 133,
     "metadata": {},
     "output_type": "execute_result"
    },
    {
     "data": {
      "image/png": "[encoded data removed]",
      "text/plain": [
       "<matplotlib.figure.Figure at 0x10f8b3f90>"
      ]
     },
     "metadata": {},
     "output_type": "display_data"
    }
   ],
   "source": [
    "plt.scatter(test[['fat_100g']], test['nutrition_score_uk_100g'])\n",
    "plt.plot(test[['fat_100g']], predicted, color='red')"
   ]
  },
  {
   "cell_type": "markdown",
   "metadata": {},
   "source": [
    "### Solution 4.7\n",
    "*Do the results suprise you? What types of items a lot of fat? Do they have high nutrition scores?*\n",
    "\n",
    "**\n",
    "The results aren't particularly surprising, but one thing that is interesting is that the highest fat content items are mostly olive oils. Being that they are plant-based items, the nutrition scores aren't nearly as high as the most unhealthy foods in the list.**\n",
    "\n",
    "**As the fat content goes up, so does the nutrition score, and high nutrition scores are more unhealthy.  A further dive into the dataset could include the relationships between the different types of fat types and various other nutritional variables like trans-fat_100g, omega-9-fat_100g, and omega-6-fat_100g.**\n",
    "\n",
    "**Based on the data shown in the 2nd table below, mostly sugary and salty snacks appear in the top of the most unhealthy categories (but not necessarily the most fat content).**"
   ]
  },
  {
   "cell_type": "code",
   "execution_count": 136,
   "metadata": {
    "collapsed": false
   },
   "outputs": [
    {
     "data": {
      "text/html": [
       "<div>\n",
       "<table border=\"1\" class=\"dataframe\">\n",
       "  <thead>\n",
       "    <tr style=\"text-align: right;\">\n",
       "      <th></th>\n",
       "      <th>product_name</th>\n",
       "      <th>main_category</th>\n",
       "      <th>nutrition_score_uk_100g</th>\n",
       "      <th>fat_100g</th>\n",
       "    </tr>\n",
       "  </thead>\n",
       "  <tbody>\n",
       "    <tr>\n",
       "      <th>57786</th>\n",
       "      <td>Ekstra Jomfru Olivenolie</td>\n",
       "      <td>NaN</td>\n",
       "      <td>20.0</td>\n",
       "      <td>101.0</td>\n",
       "    </tr>\n",
       "    <tr>\n",
       "      <th>30759</th>\n",
       "      <td>Préparation à l'Huile d'olive arôme Basilic Bi...</td>\n",
       "      <td>en:plant-based-foods-and-beverages</td>\n",
       "      <td>NaN</td>\n",
       "      <td>100.0</td>\n",
       "    </tr>\n",
       "    <tr>\n",
       "      <th>59939</th>\n",
       "      <td>Aceite de oliva virgen extra &amp;quot;Esencia And...</td>\n",
       "      <td>es:huiles</td>\n",
       "      <td>12.0</td>\n",
       "      <td>100.0</td>\n",
       "    </tr>\n",
       "    <tr>\n",
       "      <th>59942</th>\n",
       "      <td>Aceite de oliva virgen extra &amp;quot;Esencia And...</td>\n",
       "      <td>es:huiles</td>\n",
       "      <td>12.0</td>\n",
       "      <td>100.0</td>\n",
       "    </tr>\n",
       "    <tr>\n",
       "      <th>59941</th>\n",
       "      <td>Aceite de oliva virgen extra &amp;quot;Esencia And...</td>\n",
       "      <td>en:plant-based-foods-and-beverages</td>\n",
       "      <td>12.0</td>\n",
       "      <td>100.0</td>\n",
       "    </tr>\n",
       "    <tr>\n",
       "      <th>30755</th>\n",
       "      <td>Huile d'Olive Vierge extra</td>\n",
       "      <td>en:plant-based-foods-and-beverages</td>\n",
       "      <td>20.0</td>\n",
       "      <td>100.0</td>\n",
       "    </tr>\n",
       "    <tr>\n",
       "      <th>30756</th>\n",
       "      <td>Huile d'olive vierge extra</td>\n",
       "      <td>en:plant-based-foods-and-beverages</td>\n",
       "      <td>20.0</td>\n",
       "      <td>100.0</td>\n",
       "    </tr>\n",
       "    <tr>\n",
       "      <th>30757</th>\n",
       "      <td>Cauvin - Huile pimenté pour Pizza, Grillades e...</td>\n",
       "      <td>NaN</td>\n",
       "      <td>NaN</td>\n",
       "      <td>100.0</td>\n",
       "    </tr>\n",
       "  </tbody>\n",
       "</table>\n",
       "</div>"
      ],
      "text/plain": [
       "                                            product_name  \\\n",
       "57786                          Ekstra Jomfru Olivenolie    \n",
       "30759  Préparation à l'Huile d'olive arôme Basilic Bi...   \n",
       "59939  Aceite de oliva virgen extra &quot;Esencia And...   \n",
       "59942  Aceite de oliva virgen extra &quot;Esencia And...   \n",
       "59941  Aceite de oliva virgen extra &quot;Esencia And...   \n",
       "30755                         Huile d'Olive Vierge extra   \n",
       "30756                         Huile d'olive vierge extra   \n",
       "30757  Cauvin - Huile pimenté pour Pizza, Grillades e...   \n",
       "\n",
       "                            main_category  nutrition_score_uk_100g  fat_100g  \n",
       "57786                                 NaN                     20.0     101.0  \n",
       "30759  en:plant-based-foods-and-beverages                      NaN     100.0  \n",
       "59939                           es:huiles                     12.0     100.0  \n",
       "59942                           es:huiles                     12.0     100.0  \n",
       "59941  en:plant-based-foods-and-beverages                     12.0     100.0  \n",
       "30755  en:plant-based-foods-and-beverages                     20.0     100.0  \n",
       "30756  en:plant-based-foods-and-beverages                     20.0     100.0  \n",
       "30757                                 NaN                      NaN     100.0  "
      ]
     },
     "execution_count": 136,
     "metadata": {},
     "output_type": "execute_result"
    }
   ],
   "source": [
    "foodFacts.sort_values(\"fat_100g\", ascending=False)[:8][[\"product_name\", \"main_category\", \"nutrition_score_uk_100g\", \"fat_100g\"]]"
   ]
  },
  {
   "cell_type": "code",
   "execution_count": 134,
   "metadata": {
    "collapsed": false
   },
   "outputs": [
    {
     "data": {
      "text/html": [
       "<div>\n",
       "<table border=\"1\" class=\"dataframe\">\n",
       "  <thead>\n",
       "    <tr style=\"text-align: right;\">\n",
       "      <th></th>\n",
       "      <th>product_name</th>\n",
       "      <th>main_category</th>\n",
       "      <th>nutrition_score_uk_100g</th>\n",
       "    </tr>\n",
       "  </thead>\n",
       "  <tbody>\n",
       "    <tr>\n",
       "      <th>32338</th>\n",
       "      <td>Lait dessert origine république dominicaine</td>\n",
       "      <td>en:sugary-snacks</td>\n",
       "      <td>33.0</td>\n",
       "    </tr>\n",
       "    <tr>\n",
       "      <th>35993</th>\n",
       "      <td>Crackers</td>\n",
       "      <td>en:salty-snacks</td>\n",
       "      <td>32.0</td>\n",
       "    </tr>\n",
       "    <tr>\n",
       "      <th>14682</th>\n",
       "      <td>Mini Gaufres Cocktail</td>\n",
       "      <td>en:sugary-snacks</td>\n",
       "      <td>32.0</td>\n",
       "    </tr>\n",
       "    <tr>\n",
       "      <th>37031</th>\n",
       "      <td>Sablé au caramel et chocolat au lait</td>\n",
       "      <td>en:sugary-snacks</td>\n",
       "      <td>32.0</td>\n",
       "    </tr>\n",
       "    <tr>\n",
       "      <th>32336</th>\n",
       "      <td>tablette choc lait café</td>\n",
       "      <td>en:sugary-snacks</td>\n",
       "      <td>32.0</td>\n",
       "    </tr>\n",
       "    <tr>\n",
       "      <th>54050</th>\n",
       "      <td>Bites Strawberry</td>\n",
       "      <td>en:waffles</td>\n",
       "      <td>31.0</td>\n",
       "    </tr>\n",
       "    <tr>\n",
       "      <th>34575</th>\n",
       "      <td>Palets pur beurre</td>\n",
       "      <td>en:sugary-snacks</td>\n",
       "      <td>31.0</td>\n",
       "    </tr>\n",
       "    <tr>\n",
       "      <th>56325</th>\n",
       "      <td>Lait Amandes Caramélisées avec une pointe de sel</td>\n",
       "      <td>en:sugary-snacks</td>\n",
       "      <td>31.0</td>\n",
       "    </tr>\n",
       "  </tbody>\n",
       "</table>\n",
       "</div>"
      ],
      "text/plain": [
       "                                           product_name     main_category  \\\n",
       "32338       Lait dessert origine république dominicaine  en:sugary-snacks   \n",
       "35993                                          Crackers   en:salty-snacks   \n",
       "14682                             Mini Gaufres Cocktail  en:sugary-snacks   \n",
       "37031              Sablé au caramel et chocolat au lait  en:sugary-snacks   \n",
       "32336                          tablette choc lait café   en:sugary-snacks   \n",
       "54050                                  Bites Strawberry        en:waffles   \n",
       "34575                                 Palets pur beurre  en:sugary-snacks   \n",
       "56325  Lait Amandes Caramélisées avec une pointe de sel  en:sugary-snacks   \n",
       "\n",
       "       nutrition_score_uk_100g  \n",
       "32338                     33.0  \n",
       "35993                     32.0  \n",
       "14682                     32.0  \n",
       "37031                     32.0  \n",
       "32336                     32.0  \n",
       "54050                     31.0  \n",
       "34575                     31.0  \n",
       "56325                     31.0  "
      ]
     },
     "execution_count": 134,
     "metadata": {},
     "output_type": "execute_result"
    }
   ],
   "source": [
    "foodFacts.sort_values(\"nutrition_score_uk_100g\", ascending=False)[[\"product_name\",\"main_category\", \"nutrition_score_uk_100g\"]][:8]"
   ]
  },
  {
   "cell_type": "markdown",
   "metadata": {},
   "source": [
    "Exercise 5: Machine Learning Theory (15 points)\n",
    "-----------------------------------\n",
    "\n",
    "A lot of times simply applying the correct model makes more of a difference than clean data. This exercise shows off your knowledge of the theory behind different machine learning concepts.\n",
    "\n",
    "1. If you were going to create your own nutritional rating, based off of (the very incomplete) UK and French rankings which class of machine learning model would you choose? Why? Which scikit learn model would you choose? Why? Assume your rating would be between 0 and 100.\n",
    "\n",
    "2. If you wanted to group foods into 10 categories based on their nutritional facts and keywords in their product names, which type of machine learning model would you use? Why? Which scikit learn model would you choose? Why?\n",
    "\n",
    "3. If you wanted to try to detect outliers (malicious users, data corruption, etc) what type of model could you use? Why? Is there anything in scikit learn that can handle this task?"
   ]
  },
  {
   "cell_type": "markdown",
   "metadata": {},
   "source": [
    "### Solution 5.1\n",
    "*If you were going to create your own nutritional rating, based off of (the very incomplete) UK and French rankings which class of machine learning model would you choose? Why? Which scikit learn model would you choose? Why? Assume your rating would be between 0 and 100.*\n",
    "\n",
    "#### Machine Learning Model\n",
    "With a rating prediction being a continuous continuous value between 0 and 100, I'd lean toward using some version of a regression model.  Based on the correlation below, and common sense, the two nutrition scores are highly correlated and may be able to contribute to a 0-100 ranking of our own.  Of note, even though there are missing values, due to the high correlation, it might not even be necessary to remove the NAs from the data with proper training.\n",
    "\n",
    "Since the result would likely be linear, I'd expect that a **linear regression** would fit the best.  What I don't understand, though, is how you'd possibly train the model unless you came up with a rating using the same set of features in the dataset and then calculated the new ranking from there.\n",
    "\n",
    "#### Scikit Learn Model\n",
    "The model we were looking for wasn't really in the decision map: <http://scikit-learn.org/stable/tutorial/machine_learning_map/>.\n",
    "\n",
    "Since we're looking to do a simple linear regression, then the ***LinearRegression*** model will work using the ordinary least squares.  There only two features in the data set (fr & uk scores), so it didn't make a lot of sense to try getting more complex with a Lasso or Ridge Regression."
   ]
  },
  {
   "cell_type": "code",
   "execution_count": 137,
   "metadata": {
    "collapsed": false
   },
   "outputs": [
    {
     "name": "stdout",
     "output_type": "stream",
     "text": [
      "size of fr_vs_uk:62588\n"
     ]
    },
    {
     "data": {
      "text/html": [
       "<div>\n",
       "<table border=\"1\" class=\"dataframe\">\n",
       "  <thead>\n",
       "    <tr style=\"text-align: right;\">\n",
       "      <th></th>\n",
       "      <th>nutrition_score_fr_100g</th>\n",
       "      <th>nutrition_score_uk_100g</th>\n",
       "    </tr>\n",
       "  </thead>\n",
       "  <tbody>\n",
       "    <tr>\n",
       "      <th>nutrition_score_fr_100g</th>\n",
       "      <td>1.000000</td>\n",
       "      <td>0.959683</td>\n",
       "    </tr>\n",
       "    <tr>\n",
       "      <th>nutrition_score_uk_100g</th>\n",
       "      <td>0.959683</td>\n",
       "      <td>1.000000</td>\n",
       "    </tr>\n",
       "  </tbody>\n",
       "</table>\n",
       "</div>"
      ],
      "text/plain": [
       "                         nutrition_score_fr_100g  nutrition_score_uk_100g\n",
       "nutrition_score_fr_100g                 1.000000                 0.959683\n",
       "nutrition_score_uk_100g                 0.959683                 1.000000"
      ]
     },
     "execution_count": 137,
     "metadata": {},
     "output_type": "execute_result"
    },
    {
     "data": {
      "image/png": "[encoded data removed]",
      "text/plain": [
       "<matplotlib.figure.Figure at 0x10f493390>"
      ]
     },
     "metadata": {},
     "output_type": "display_data"
    }
   ],
   "source": [
    "import matplotlib.pyplot as plt\n",
    "fr_vs_uk = foodFacts[['nutrition_score_fr_100g', 'nutrition_score_uk_100g']].dropna(thresh=2)\n",
    "print \"size of fr_vs_uk:\" + str(fr_vs_uk.size)\n",
    "fr_vs_uk.plot.scatter(x=\"nutrition_score_fr_100g\", y=\"nutrition_score_uk_100g\")\n",
    "fr_vs_uk.corr()"
   ]
  },
  {
   "cell_type": "markdown",
   "metadata": {},
   "source": [
    "### Solution 5.2\n",
    "*If you wanted to group foods into 10 categories based on their nutritional facts and keywords in their product names, which type of machine learning model would you use? Why? Which scikit learn model would you choose? Why?*\n",
    "\n",
    "#### Machine Learning Model\n",
    "Grouping the foods into 10 categories is a classification activity.  Using some text based parsing as well as numerical data, I'd prefer to use a Bayesian classifier (Naive Bayes Network).  Based on the large number of nutritional facts and keywords available, a Bayes Network will allow for predictions that account for the features can influence other variables, or have natural relationships.\n",
    "\n",
    "Another option would be a K-Neighbors classifier would do a reasonable job classifying the data.  The nearest category can be determined using any sort of distance calculation, like Euclidian distance.\n",
    "\n",
    "#### Scikit Learning Model\n",
    "For the Naive Bayes model, I'd first take a look at the multinomial naive bayes (MultinomialNB) model.  This particular model handles text and doesn't require a set of binary features/variables.\n",
    "<http://scikit-learn.org/stable/modules/generated/sklearn.naive_bayes.MultinomialNB.html#sklearn.naive_bayes.MultinomialNB>\n",
    "\n",
    "For the K-Neighbors Classifier, use the KNeighborsClassifier model in scikit learn.  This model is pretty straight forward and simple, while also having multiple different KNN algorithms available.\n",
    "<http://scikit-learn.org/stable/modules/generated/sklearn.neighbors.KNeighborsClassifier.html#sklearn.neighbors.KNeighborsClassifier>"
   ]
  },
  {
   "cell_type": "markdown",
   "metadata": {
    "collapsed": true
   },
   "source": [
    "### Solution 5.3\n",
    "*If you wanted to try to detect outliers (malicious users, data corruption, etc) what type of model could you use? Why? Is there anything in scikit learn that can handle this task?*\n",
    "\n",
    "#### Machine Learning Model\n",
    "There are many possible ways to do outlier detection.  A single-class support vector machine would do a fine job of finding outliers.  SVMs are very powerful and accurate for yes/no classifications.\n",
    "\n",
    "A KNN technique would also be useful if you wanted to look at the densities of various clusters and find if some of the data points were not within the various densities.\n",
    "\n",
    "#### Scikit Learning Model\n",
    "ScikitLearn has a model called svm.OneClassSVM that can be used.  Though, the documentation compares it to the elliptical envelope, SVMs are quite powerful in their classification techniques for determining on/off (outlier/not-outlier) results."
   ]
  },
  {
   "cell_type": "code",
   "execution_count": null,
   "metadata": {
    "collapsed": true
   },
   "outputs": [],
   "source": []
  }
 ],
 "metadata": {
  "kernelspec": {
   "display_name": "Python 2",
   "language": "python",
   "name": "python2"
  },
  "language_info": {
   "codemirror_mode": {
    "name": "ipython",
    "version": 2
   },
   "file_extension": ".py",
   "mimetype": "text/x-python",
   "name": "python",
   "nbconvert_exporter": "python",
   "pygments_lexer": "ipython2",
   "version": "2.7.11"
  }
 },
 "nbformat": 4,
 "nbformat_minor": 0
}
